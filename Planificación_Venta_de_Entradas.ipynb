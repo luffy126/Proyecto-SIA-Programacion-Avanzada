{
  "nbformat": 4,
  "nbformat_minor": 0,
  "metadata": {
    "colab": {
      "provenance": []
    },
    "kernelspec": {
      "name": "python3",
      "display_name": "Python 3"
    },
    "language_info": {
      "name": "python"
    }
  },
  "cells": [
    {
      "cell_type": "markdown",
      "source": [
        "**Contexto:** Venta de entradas a eventos: Gestión de venta de entradas a eventos y sugerir automáticamente ubicaciones según edad y áreas de interés. Sistema focalizado a charlas y seminarios. Se debe manejar stock de ubicaciones y costos según requerimientos del cliente.\n",
        "\n",
        "----\n",
        "\n",
        "Respecto a las ventas:\n",
        "- Se necesita sistema para ingresar datos basicos del comprador (rut, nombre, numeros de asiento a comprar, nombre de las personas que asisten, medios de contacto e IMPORTANTE edad y lista de checks de discapacidades comunes)\n",
        "\n",
        "- Al ingresar la orden de compra se debe actualizar el evento marcando como no disponibles los asientos que fueron anotados en la misma\n",
        "\n",
        "- Los pedidos realizados deben tener estados (pendiente de pago, cancelado, aprobado) y dependiendo de esto actualizar base de datos del evento correspondiente\n",
        "\n",
        "----\n",
        "\n",
        "Respecto a los eventos:\n",
        "\n",
        "- Se deben poder crear, modificar y cancelar (el evento entero, no disponibilidad de un sector del espacio, cambio de hora, etc)\n",
        "\n",
        "- Cada evento debe tener como minimo ID único de evento, nombre, capacidad de personas, ubicación, hora de realización, orador a cargo y tema, descripción breve del evento y disponibilidad de asientos especiales para personas con discapacidad\n",
        "\n",
        "----\n",
        "\n",
        "Respecto al programa en general **Y CONSIDERANDO LA ENTREGA DE LA PROXIMA SEMANA**:\n",
        "\n",
        "- El programa debe ser capaz de tener información consistente entre reinicios, osea guardar los datos en archivo plano o excel\n",
        "\n",
        "- Para esta entrega debe funcionar en consola e implementar agregar/quitar de manera manual los elementos funcionales (entradas vendidas y eventos creados) y listar todos los elementos dentro del sistema (corte proyecto mellado pero un poco mas chico)\n",
        "\n",
        "- Se deben tener definidas las clases que se van a usar para manejar los eventos y las entradas y como se van a comunicar entre ellas"
      ],
      "metadata": {
        "id": "BdTqgnwOJKEC"
      }
    },
    {
      "cell_type": "code",
      "execution_count": null,
      "metadata": {
        "id": "mi4JM0SKI5nb"
      },
      "outputs": [],
      "source": []
    },
    {
      "cell_type": "markdown",
      "source": [
        "**Requerimientos Avance:**\n",
        "\n",
        "*   1: Creación evento con datos básicos\n",
        "*   1.1: Modificación de un dato de evento específicado\n",
        "*   1.2: Eliminación de un evento específicado\n",
        "*   1.2.1: Eliminación de las ordenes de compra del sistema del evento específicado\n",
        "*   1.3: Manejo de errores básicos y de escritura/casos extremos (ni cagando vas a hacer un evento con 90 millones de personas ni -200)\n",
        "\n",
        "----\n",
        "\n",
        "*   2: Creación comprador con datos básicos\n",
        "*   2.1: Modificación de un dato de un comprador especificado\n",
        "*   2.2: Eliminación de un comprador específicado\n",
        "*   2.2.3: Eliminación de todas las ordenes de compra del comprador específicado en el caso 2.2\n",
        "*   2.3: Manejo de errores básicos y casos extremos\n",
        "\n",
        "----\n",
        "\n",
        "*   3: Creación orden de compra con datos del comprador y datos del evento\n",
        "*   3.1: Modificación de un dato de la orden de compra específicada\n",
        "*   3.2: Eliminación de una orden de compra específicada\n",
        "*   3.2.1: Liberación de los asientos comprados del evento y emisión de orden de reembolso al comprador de la orden de compra eliminada especificada\n",
        "*   3.3: Manejo de casos extremos y errores de escritura\n",
        "\n",
        "----\n",
        "\n",
        "*   4: Listado de la totalidad de eventos registrados en el sistema\n",
        "*   4.0.1: Listado de los datos de un evento especificado\n",
        "*   4.1: Listado de todos los compradores registrados en el sistema\n",
        "*   4.1.1: Listado de los datos de un comprador específico\n",
        "*   4.2: Listado de todas las ordenes de compra en el sistema\n",
        "*   4.2.1: Listado de las ordenes de compra en un evento específico\n",
        "*   4.2.2: Listado de los datos de una orden de compra específica"
      ],
      "metadata": {
        "id": "3ry70hOII94c"
      }
    }
  ]
}